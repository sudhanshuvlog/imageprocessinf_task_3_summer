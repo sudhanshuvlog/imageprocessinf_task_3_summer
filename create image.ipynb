{
 "cells": [
  {
   "cell_type": "code",
   "execution_count": null,
   "metadata": {},
   "outputs": [],
   "source": [
    "import numpy\n",
    "import cv2"
   ]
  },
  {
   "cell_type": "code",
   "execution_count": null,
   "metadata": {},
   "outputs": [],
   "source": [
    "black_image=numpy.zeros((500,500,3))"
   ]
  },
  {
   "cell_type": "code",
   "execution_count": null,
   "metadata": {},
   "outputs": [],
   "source": [
    "cv2.imshow(\"hii\", black_image)\n",
    "cv2.waitKey()\n",
    "cv2.destroyAllWindows()"
   ]
  },
  {
   "cell_type": "code",
   "execution_count": null,
   "metadata": {},
   "outputs": [],
   "source": [
    "rectangle=cv2.rectangle(black_image,(100,150),(300,300),[0,0,255],5)"
   ]
  },
  {
   "cell_type": "code",
   "execution_count": null,
   "metadata": {},
   "outputs": [],
   "source": [
    "cv2.imshow(\"hii\", rectangle)\n",
    "cv2.waitKey()\n",
    "cv2.destroyAllWindows()"
   ]
  },
  {
   "cell_type": "code",
   "execution_count": null,
   "metadata": {},
   "outputs": [],
   "source": [
    "rectangle=cv2.rectangle(black_image,(130,320),(280,350),[0,0,255],5)\n"
   ]
  },
  {
   "cell_type": "code",
   "execution_count": null,
   "metadata": {},
   "outputs": [],
   "source": [
    "cv2.imshow(\"hii\", rectangle)\n",
    "cv2.waitKey()\n",
    "cv2.destroyAllWindows()"
   ]
  },
  {
   "cell_type": "code",
   "execution_count": null,
   "metadata": {},
   "outputs": [],
   "source": [
    "rectangle=cv2.rectangle(black_image,(300,320),(330,350),[0,0,255],5)"
   ]
  },
  {
   "cell_type": "code",
   "execution_count": null,
   "metadata": {},
   "outputs": [],
   "source": [
    "cv2.imshow(\"hii\", rectangle)\n",
    "cv2.waitKey()\n",
    "cv2.destroyAllWindows()"
   ]
  },
  {
   "cell_type": "code",
   "execution_count": null,
   "metadata": {},
   "outputs": [],
   "source": [
    "#################################"
   ]
  },
  {
   "cell_type": "code",
   "execution_count": 4,
   "metadata": {},
   "outputs": [],
   "source": [
    "import numpy\n",
    "import cv2\n",
    "import time\n",
    "i=50\n",
    "j=70\n",
    "k=100\n",
    "black_image=numpy.zeros((500,500,3))\n",
    "while True:\n",
    "    time.sleep(0.2)\n",
    "    rectangle=cv2.rectangle(black_image,(100,150),(300,300),[i,j,k],5)\n",
    "    rectangle=cv2.rectangle(black_image,(130,320),(280,350),[j,k,i],5)\n",
    "    rectangle=cv2.rectangle(black_image,(300,320),(330,350),[k,j,i],5)\n",
    "    rectangle=cv2.rectangle(black_image,(300,320),(330,350),[k,i,j],5)\n",
    "    i=i+40\n",
    "    j=j+50\n",
    "    k=k+90\n",
    "    if i>255:\n",
    "        i=0\n",
    "    if j>255:\n",
    "        j=10\n",
    "    if k>255:\n",
    "        k=20\n",
    "        \n",
    "    cv2.imshow(\"hii\", rectangle)\n",
    "    if cv2.waitKey(10)==13:\n",
    "        break\n",
    "cv2.destroyAllWindows()"
   ]
  },
  {
   "cell_type": "code",
   "execution_count": null,
   "metadata": {},
   "outputs": [],
   "source": []
  }
 ],
 "metadata": {
  "kernelspec": {
   "display_name": "Python 3",
   "language": "python",
   "name": "python3"
  },
  "language_info": {
   "codemirror_mode": {
    "name": "ipython",
    "version": 3
   },
   "file_extension": ".py",
   "mimetype": "text/x-python",
   "name": "python",
   "nbconvert_exporter": "python",
   "pygments_lexer": "ipython3",
   "version": "3.8.5"
  }
 },
 "nbformat": 4,
 "nbformat_minor": 4
}
